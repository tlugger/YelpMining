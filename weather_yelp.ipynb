{
 "cells": [
  {
   "cell_type": "code",
   "execution_count": 38,
   "metadata": {
    "collapsed": true
   },
   "outputs": [],
   "source": [
    "from pymongo import MongoClient\n",
    "import pandas as pd\n",
    "import numpy as np\n",
    "import matplotlib.mlab as mlab\n",
    "import matplotlib.pyplot as plt\n",
    "import matplotlib.dates as mdates\n",
    "from textblob import TextBlob\n",
<<<<<<< HEAD
    "import datetime\n",
=======
    "from datetime import datetime\n",
>>>>>>> 041e7d19c959b0faeb79f86810d9e0745ccf68ab
    "import nltk"
   ]
  },
  {
   "cell_type": "code",
   "execution_count": 7,
   "metadata": {
    "collapsed": false
   },
   "outputs": [
    {
     "data": {
      "text/html": [
       "<div>\n",
       "<table border=\"1\" class=\"dataframe\">\n",
       "  <thead>\n",
       "    <tr style=\"text-align: right;\">\n",
       "      <th></th>\n",
       "      <th>_id</th>\n",
       "      <th>business_id</th>\n",
       "      <th>city</th>\n",
       "      <th>type</th>\n",
       "    </tr>\n",
       "  </thead>\n",
       "  <tbody>\n",
       "    <tr>\n",
       "      <th>0</th>\n",
       "      <td>58d5894730282846474829f7</td>\n",
       "      <td>93otbGHE0s0m-lU1osvg9w</td>\n",
       "      <td>Pittsburgh</td>\n",
       "      <td>business</td>\n",
       "    </tr>\n",
       "    <tr>\n",
       "      <th>1</th>\n",
       "      <td>58d589483028284647482a5f</td>\n",
       "      <td>jDqaz1jKdeWk_fTVCzc1Pg</td>\n",
       "      <td>Pittsburgh</td>\n",
       "      <td>business</td>\n",
       "    </tr>\n",
       "    <tr>\n",
       "      <th>2</th>\n",
       "      <td>58d589483028284647482a98</td>\n",
       "      <td>HYwbHY-srAOoH-t337DpMw</td>\n",
       "      <td>Pittsburgh</td>\n",
       "      <td>business</td>\n",
       "    </tr>\n",
       "    <tr>\n",
       "      <th>3</th>\n",
       "      <td>58d589483028284647482aac</td>\n",
       "      <td>ZYof0WYlilJ3pgWNSgmYKQ</td>\n",
       "      <td>Pittsburgh</td>\n",
       "      <td>business</td>\n",
       "    </tr>\n",
       "    <tr>\n",
       "      <th>4</th>\n",
       "      <td>58d589483028284647482abf</td>\n",
       "      <td>u7CxxEzx8hvjoJ8onN4zTg</td>\n",
       "      <td>Pittsburgh</td>\n",
       "      <td>business</td>\n",
       "    </tr>\n",
       "  </tbody>\n",
       "</table>\n",
       "</div>"
      ],
      "text/plain": [
       "                        _id             business_id        city      type\n",
       "0  58d5894730282846474829f7  93otbGHE0s0m-lU1osvg9w  Pittsburgh  business\n",
       "1  58d589483028284647482a5f  jDqaz1jKdeWk_fTVCzc1Pg  Pittsburgh  business\n",
       "2  58d589483028284647482a98  HYwbHY-srAOoH-t337DpMw  Pittsburgh  business\n",
       "3  58d589483028284647482aac  ZYof0WYlilJ3pgWNSgmYKQ  Pittsburgh  business\n",
       "4  58d589483028284647482abf  u7CxxEzx8hvjoJ8onN4zTg  Pittsburgh  business"
      ]
     },
     "execution_count": 7,
     "metadata": {},
     "output_type": "execute_result"
    }
   ],
   "source": [
    "# \n",
    "cli = MongoClient(\"localhost\",27017)\n",
    "db = cli.yelp\n",
    "cursorBusiness = db.business.find({\"city\" : \"Pittsburgh\", \"categories\": \"Restaurants\"}, {\"business_id\" : 1, \"city\": 1, \"type\" : 1}).limit(1000)\n",
    "# \n",
    "pitt_businesses = pd.DataFrame(list(cursorBusiness))\n",
    "pitt_businesses.head()"
   ]
  },
  {
   "cell_type": "markdown",
   "metadata": {},
   "source": [
    "We can grab 1000 restaurant ids from Charlotte, now to grab reviews on these businesses on the correct days"
   ]
  },
  {
   "cell_type": "code",
<<<<<<< HEAD
   "execution_count": 8,
=======
   "execution_count": null,
   "metadata": {
    "collapsed": false
   },
   "outputs": [],
   "source": [
    "cursorReview = db.review.find({\"business_id\": {\"$in\": list(charlotte_businesses['business_id'])}, \"date\": {\"%gt\": \"2015-12-31\", \"%lt\": \"2017-01-01\"}}, {\"text\": 1, \"stars\": 1, \"date\": 1}).limit(100)\n",
    "charlotte_reviews = pd.DataFrame(list(cursorReview))\n",
    "charlotte_reviews.head()"
   ]
  },
  {
   "cell_type": "code",
   "execution_count": null,
   "metadata": {
    "collapsed": false
   },
   "outputs": [],
   "source": [
    "charlotte_reviews['stars'] = charlotte_reviews['stars'].map(float) \n",
    "aggregatedStarsByDate = charlotte_reviews.groupby('date').mean()\n",
    "unique_dates = np.unique(charlotte_reviews[['date']])"
   ]
  },
  {
   "cell_type": "code",
   "execution_count": 24,
   "metadata": {
    "collapsed": false
   },
   "outputs": [],
   "source": [
    "def custom_split(string):\n",
    "    return string.split(' ')[0]\n",
    "stars = aggregatedStarsByDate['stars'] # Grab unique stars"
   ]
  },
  {
   "cell_type": "code",
   "execution_count": 39,
>>>>>>> 041e7d19c959b0faeb79f86810d9e0745ccf68ab
   "metadata": {
    "collapsed": false
   },
   "outputs": [
    {
     "data": {
<<<<<<< HEAD
      "text/html": [
       "<div>\n",
       "<table border=\"1\" class=\"dataframe\">\n",
       "  <thead>\n",
       "    <tr style=\"text-align: right;\">\n",
       "      <th></th>\n",
       "      <th>_id</th>\n",
       "      <th>date</th>\n",
       "      <th>stars</th>\n",
       "      <th>text</th>\n",
       "    </tr>\n",
       "  </thead>\n",
       "  <tbody>\n",
       "    <tr>\n",
       "      <th>0</th>\n",
       "      <td>58d573693028284647f92019</td>\n",
       "      <td>2016-06-07</td>\n",
       "      <td>5</td>\n",
       "      <td>I've been coming to Sushi 3 since high school ...</td>\n",
       "    </tr>\n",
       "    <tr>\n",
       "      <th>1</th>\n",
       "      <td>58d5736a3028284647f938b3</td>\n",
       "      <td>2016-09-27</td>\n",
       "      <td>1</td>\n",
       "      <td>So bad, I went and they wouldn't stop fighting...</td>\n",
       "    </tr>\n",
       "    <tr>\n",
       "      <th>2</th>\n",
       "      <td>58d5736a3028284647f93df8</td>\n",
       "      <td>2016-03-20</td>\n",
       "      <td>1</td>\n",
       "      <td>GROSSS! poor Chinese they must have said fuck ...</td>\n",
       "    </tr>\n",
       "    <tr>\n",
       "      <th>3</th>\n",
       "      <td>58d5736a3028284647f93dfb</td>\n",
       "      <td>2016-03-06</td>\n",
       "      <td>4</td>\n",
       "      <td>Ordered delivery 3 times. Took about an hour t...</td>\n",
       "    </tr>\n",
       "    <tr>\n",
       "      <th>4</th>\n",
       "      <td>58d5736b3028284647f94ace</td>\n",
       "      <td>2016-02-02</td>\n",
       "      <td>3</td>\n",
       "      <td>Hit or miss. Some days an awesome selection an...</td>\n",
       "    </tr>\n",
       "  </tbody>\n",
       "</table>\n",
       "</div>"
      ],
      "text/plain": [
       "                        _id        date  stars  \\\n",
       "0  58d573693028284647f92019  2016-06-07      5   \n",
       "1  58d5736a3028284647f938b3  2016-09-27      1   \n",
       "2  58d5736a3028284647f93df8  2016-03-20      1   \n",
       "3  58d5736a3028284647f93dfb  2016-03-06      4   \n",
       "4  58d5736b3028284647f94ace  2016-02-02      3   \n",
       "\n",
       "                                                text  \n",
       "0  I've been coming to Sushi 3 since high school ...  \n",
       "1  So bad, I went and they wouldn't stop fighting...  \n",
       "2  GROSSS! poor Chinese they must have said fuck ...  \n",
       "3  Ordered delivery 3 times. Took about an hour t...  \n",
       "4  Hit or miss. Some days an awesome selection an...  "
      ]
     },
     "execution_count": 8,
=======
      "image/png": "iVBORw0KGgoAAAANSUhEUgAAAXcAAAD8CAYAAACMwORRAAAABHNCSVQICAgIfAhkiAAAAAlwSFlz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\nERERKxD/Px5Nze4gcbiJAAAAAElFTkSuQmCC\n",
      "text/plain": [
       "<matplotlib.figure.Figure at 0x10b264b38>"
      ]
     },
>>>>>>> 041e7d19c959b0faeb79f86810d9e0745ccf68ab
     "metadata": {},
     "output_type": "display_data"
    }
   ],
   "source": [
<<<<<<< HEAD
    "#datelist = list([\"2016-03-13\", \"2016-03-14\", \"2016-03-15\", \"2016-03-16\", \"2016-03-17\", \"2016-03-18\", \"2016-03-19\")\n",
    "\n",
    "\n",
    "cursorReview = db.review.find({\"business_id\": {\"$in\": list(pitt_businesses['business_id'])}, \"date\": {\"$gt\": \"2015-12-31\", \"$lt\": \"2017-01-01\"}}, {\"text\": 1, \"stars\": 1, \"date\": 1}).limit(10000)\n",
    "pitt_reviews = pd.DataFrame(list(cursorReview))\n",
    "pitt_reviews.head()"
   ]
  },
  {
   "cell_type": "code",
   "execution_count": 9,
   "metadata": {
    "collapsed": false
   },
   "outputs": [
    {
     "data": {
      "text/plain": [
       "0    1/1/2016 0:28\n",
       "1    1/1/2016 0:52\n",
       "2    1/1/2016 1:00\n",
       "3    1/1/2016 1:09\n",
       "4    1/1/2016 1:52\n",
       "Name: DATE, dtype: object"
      ]
     },
     "execution_count": 9,
     "metadata": {},
     "output_type": "execute_result"
    }
   ],
   "source": [
    "pitt_reviews.to_csv(\"pitt2016_reviews.csv\")\n",
    "\n",
    "weather = pd.read_csv(\"charollote2016.csv\")\n",
    "weather['DATE'].head()"
   ]
  },
  {
   "cell_type": "code",
   "execution_count": 16,
   "metadata": {
    "collapsed": false
   },
   "outputs": [
    {
     "ename": "ValueError",
     "evalue": "could not convert string to float: '12/31/2016 23:59'",
     "output_type": "error",
     "traceback": [
      "\u001b[0;31m---------------------------------------------------------------------------\u001b[0m",
      "\u001b[0;31mValueError\u001b[0m                                Traceback (most recent call last)",
      "\u001b[0;32m<ipython-input-16-88141a6c32d2>\u001b[0m in \u001b[0;36m<module>\u001b[0;34m()\u001b[0m\n\u001b[0;32m----> 1\u001b[0;31m \u001b[0mplt\u001b[0m\u001b[0;34m.\u001b[0m\u001b[0mplot\u001b[0m\u001b[0;34m(\u001b[0m\u001b[0mweather\u001b[0m\u001b[0;34m[\u001b[0m\u001b[0;34m'DATE'\u001b[0m\u001b[0;34m]\u001b[0m\u001b[0;34m,\u001b[0m \u001b[0mweather\u001b[0m\u001b[0;34m[\u001b[0m\u001b[0;34m'HOURLYDRYBULBTEMPF'\u001b[0m\u001b[0;34m]\u001b[0m\u001b[0;34m,\u001b[0m \u001b[0;34m'--'\u001b[0m\u001b[0;34m)\u001b[0m\u001b[0;34m\u001b[0m\u001b[0m\n\u001b[0m\u001b[1;32m      2\u001b[0m \u001b[0mplt\u001b[0m\u001b[0;34m.\u001b[0m\u001b[0mshow\u001b[0m\u001b[0;34m(\u001b[0m\u001b[0;34m)\u001b[0m\u001b[0;34m\u001b[0m\u001b[0m\n",
      "\u001b[0;32m/Library/Frameworks/Python.framework/Versions/3.5/lib/python3.5/site-packages/matplotlib/pyplot.py\u001b[0m in \u001b[0;36mplot\u001b[0;34m(*args, **kwargs)\u001b[0m\n\u001b[1;32m   3316\u001b[0m                       mplDeprecation)\n\u001b[1;32m   3317\u001b[0m     \u001b[0;32mtry\u001b[0m\u001b[0;34m:\u001b[0m\u001b[0;34m\u001b[0m\u001b[0m\n\u001b[0;32m-> 3318\u001b[0;31m         \u001b[0mret\u001b[0m \u001b[0;34m=\u001b[0m \u001b[0max\u001b[0m\u001b[0;34m.\u001b[0m\u001b[0mplot\u001b[0m\u001b[0;34m(\u001b[0m\u001b[0;34m*\u001b[0m\u001b[0margs\u001b[0m\u001b[0;34m,\u001b[0m \u001b[0;34m**\u001b[0m\u001b[0mkwargs\u001b[0m\u001b[0;34m)\u001b[0m\u001b[0;34m\u001b[0m\u001b[0m\n\u001b[0m\u001b[1;32m   3319\u001b[0m     \u001b[0;32mfinally\u001b[0m\u001b[0;34m:\u001b[0m\u001b[0;34m\u001b[0m\u001b[0m\n\u001b[1;32m   3320\u001b[0m         \u001b[0max\u001b[0m\u001b[0;34m.\u001b[0m\u001b[0m_hold\u001b[0m \u001b[0;34m=\u001b[0m \u001b[0mwashold\u001b[0m\u001b[0;34m\u001b[0m\u001b[0m\n",
      "\u001b[0;32m/Library/Frameworks/Python.framework/Versions/3.5/lib/python3.5/site-packages/matplotlib/__init__.py\u001b[0m in \u001b[0;36minner\u001b[0;34m(ax, *args, **kwargs)\u001b[0m\n\u001b[1;32m   1890\u001b[0m                     warnings.warn(msg % (label_namer, func.__name__),\n\u001b[1;32m   1891\u001b[0m                                   RuntimeWarning, stacklevel=2)\n\u001b[0;32m-> 1892\u001b[0;31m             \u001b[0;32mreturn\u001b[0m \u001b[0mfunc\u001b[0m\u001b[0;34m(\u001b[0m\u001b[0max\u001b[0m\u001b[0;34m,\u001b[0m \u001b[0;34m*\u001b[0m\u001b[0margs\u001b[0m\u001b[0;34m,\u001b[0m \u001b[0;34m**\u001b[0m\u001b[0mkwargs\u001b[0m\u001b[0;34m)\u001b[0m\u001b[0;34m\u001b[0m\u001b[0m\n\u001b[0m\u001b[1;32m   1893\u001b[0m         \u001b[0mpre_doc\u001b[0m \u001b[0;34m=\u001b[0m \u001b[0minner\u001b[0m\u001b[0;34m.\u001b[0m\u001b[0m__doc__\u001b[0m\u001b[0;34m\u001b[0m\u001b[0m\n\u001b[1;32m   1894\u001b[0m         \u001b[0;32mif\u001b[0m \u001b[0mpre_doc\u001b[0m \u001b[0;32mis\u001b[0m \u001b[0;32mNone\u001b[0m\u001b[0;34m:\u001b[0m\u001b[0;34m\u001b[0m\u001b[0m\n",
      "\u001b[0;32m/Library/Frameworks/Python.framework/Versions/3.5/lib/python3.5/site-packages/matplotlib/axes/_axes.py\u001b[0m in \u001b[0;36mplot\u001b[0;34m(self, *args, **kwargs)\u001b[0m\n\u001b[1;32m   1405\u001b[0m \u001b[0;34m\u001b[0m\u001b[0m\n\u001b[1;32m   1406\u001b[0m         \u001b[0;32mfor\u001b[0m \u001b[0mline\u001b[0m \u001b[0;32min\u001b[0m \u001b[0mself\u001b[0m\u001b[0;34m.\u001b[0m\u001b[0m_get_lines\u001b[0m\u001b[0;34m(\u001b[0m\u001b[0;34m*\u001b[0m\u001b[0margs\u001b[0m\u001b[0;34m,\u001b[0m \u001b[0;34m**\u001b[0m\u001b[0mkwargs\u001b[0m\u001b[0;34m)\u001b[0m\u001b[0;34m:\u001b[0m\u001b[0;34m\u001b[0m\u001b[0m\n\u001b[0;32m-> 1407\u001b[0;31m             \u001b[0mself\u001b[0m\u001b[0;34m.\u001b[0m\u001b[0madd_line\u001b[0m\u001b[0;34m(\u001b[0m\u001b[0mline\u001b[0m\u001b[0;34m)\u001b[0m\u001b[0;34m\u001b[0m\u001b[0m\n\u001b[0m\u001b[1;32m   1408\u001b[0m             \u001b[0mlines\u001b[0m\u001b[0;34m.\u001b[0m\u001b[0mappend\u001b[0m\u001b[0;34m(\u001b[0m\u001b[0mline\u001b[0m\u001b[0;34m)\u001b[0m\u001b[0;34m\u001b[0m\u001b[0m\n\u001b[1;32m   1409\u001b[0m \u001b[0;34m\u001b[0m\u001b[0m\n",
      "\u001b[0;32m/Library/Frameworks/Python.framework/Versions/3.5/lib/python3.5/site-packages/matplotlib/axes/_base.py\u001b[0m in \u001b[0;36madd_line\u001b[0;34m(self, line)\u001b[0m\n\u001b[1;32m   1785\u001b[0m             \u001b[0mline\u001b[0m\u001b[0;34m.\u001b[0m\u001b[0mset_clip_path\u001b[0m\u001b[0;34m(\u001b[0m\u001b[0mself\u001b[0m\u001b[0;34m.\u001b[0m\u001b[0mpatch\u001b[0m\u001b[0;34m)\u001b[0m\u001b[0;34m\u001b[0m\u001b[0m\n\u001b[1;32m   1786\u001b[0m \u001b[0;34m\u001b[0m\u001b[0m\n\u001b[0;32m-> 1787\u001b[0;31m         \u001b[0mself\u001b[0m\u001b[0;34m.\u001b[0m\u001b[0m_update_line_limits\u001b[0m\u001b[0;34m(\u001b[0m\u001b[0mline\u001b[0m\u001b[0;34m)\u001b[0m\u001b[0;34m\u001b[0m\u001b[0m\n\u001b[0m\u001b[1;32m   1788\u001b[0m         \u001b[0;32mif\u001b[0m \u001b[0;32mnot\u001b[0m \u001b[0mline\u001b[0m\u001b[0;34m.\u001b[0m\u001b[0mget_label\u001b[0m\u001b[0;34m(\u001b[0m\u001b[0;34m)\u001b[0m\u001b[0;34m:\u001b[0m\u001b[0;34m\u001b[0m\u001b[0m\n\u001b[1;32m   1789\u001b[0m             \u001b[0mline\u001b[0m\u001b[0;34m.\u001b[0m\u001b[0mset_label\u001b[0m\u001b[0;34m(\u001b[0m\u001b[0;34m'_line%d'\u001b[0m \u001b[0;34m%\u001b[0m \u001b[0mlen\u001b[0m\u001b[0;34m(\u001b[0m\u001b[0mself\u001b[0m\u001b[0;34m.\u001b[0m\u001b[0mlines\u001b[0m\u001b[0;34m)\u001b[0m\u001b[0;34m)\u001b[0m\u001b[0;34m\u001b[0m\u001b[0m\n",
      "\u001b[0;32m/Library/Frameworks/Python.framework/Versions/3.5/lib/python3.5/site-packages/matplotlib/axes/_base.py\u001b[0m in \u001b[0;36m_update_line_limits\u001b[0;34m(self, line)\u001b[0m\n\u001b[1;32m   1807\u001b[0m         \u001b[0mFigures\u001b[0m \u001b[0mout\u001b[0m \u001b[0mthe\u001b[0m \u001b[0mdata\u001b[0m \u001b[0mlimit\u001b[0m \u001b[0mof\u001b[0m \u001b[0mthe\u001b[0m \u001b[0mgiven\u001b[0m \u001b[0mline\u001b[0m\u001b[0;34m,\u001b[0m \u001b[0mupdating\u001b[0m \u001b[0mself\u001b[0m\u001b[0;34m.\u001b[0m\u001b[0mdataLim\u001b[0m\u001b[0;34m.\u001b[0m\u001b[0;34m\u001b[0m\u001b[0m\n\u001b[1;32m   1808\u001b[0m         \"\"\"\n\u001b[0;32m-> 1809\u001b[0;31m         \u001b[0mpath\u001b[0m \u001b[0;34m=\u001b[0m \u001b[0mline\u001b[0m\u001b[0;34m.\u001b[0m\u001b[0mget_path\u001b[0m\u001b[0;34m(\u001b[0m\u001b[0;34m)\u001b[0m\u001b[0;34m\u001b[0m\u001b[0m\n\u001b[0m\u001b[1;32m   1810\u001b[0m         \u001b[0;32mif\u001b[0m \u001b[0mpath\u001b[0m\u001b[0;34m.\u001b[0m\u001b[0mvertices\u001b[0m\u001b[0;34m.\u001b[0m\u001b[0msize\u001b[0m \u001b[0;34m==\u001b[0m \u001b[0;36m0\u001b[0m\u001b[0;34m:\u001b[0m\u001b[0;34m\u001b[0m\u001b[0m\n\u001b[1;32m   1811\u001b[0m             \u001b[0;32mreturn\u001b[0m\u001b[0;34m\u001b[0m\u001b[0m\n",
      "\u001b[0;32m/Library/Frameworks/Python.framework/Versions/3.5/lib/python3.5/site-packages/matplotlib/lines.py\u001b[0m in \u001b[0;36mget_path\u001b[0;34m(self)\u001b[0m\n\u001b[1;32m    987\u001b[0m         \"\"\"\n\u001b[1;32m    988\u001b[0m         \u001b[0;32mif\u001b[0m \u001b[0mself\u001b[0m\u001b[0;34m.\u001b[0m\u001b[0m_invalidy\u001b[0m \u001b[0;32mor\u001b[0m \u001b[0mself\u001b[0m\u001b[0;34m.\u001b[0m\u001b[0m_invalidx\u001b[0m\u001b[0;34m:\u001b[0m\u001b[0;34m\u001b[0m\u001b[0m\n\u001b[0;32m--> 989\u001b[0;31m             \u001b[0mself\u001b[0m\u001b[0;34m.\u001b[0m\u001b[0mrecache\u001b[0m\u001b[0;34m(\u001b[0m\u001b[0;34m)\u001b[0m\u001b[0;34m\u001b[0m\u001b[0m\n\u001b[0m\u001b[1;32m    990\u001b[0m         \u001b[0;32mreturn\u001b[0m \u001b[0mself\u001b[0m\u001b[0;34m.\u001b[0m\u001b[0m_path\u001b[0m\u001b[0;34m\u001b[0m\u001b[0m\n\u001b[1;32m    991\u001b[0m \u001b[0;34m\u001b[0m\u001b[0m\n",
      "\u001b[0;32m/Library/Frameworks/Python.framework/Versions/3.5/lib/python3.5/site-packages/matplotlib/lines.py\u001b[0m in \u001b[0;36mrecache\u001b[0;34m(self, always)\u001b[0m\n\u001b[1;32m    674\u001b[0m                 \u001b[0mx\u001b[0m \u001b[0;34m=\u001b[0m \u001b[0mma\u001b[0m\u001b[0;34m.\u001b[0m\u001b[0masarray\u001b[0m\u001b[0;34m(\u001b[0m\u001b[0mxconv\u001b[0m\u001b[0;34m,\u001b[0m \u001b[0mnp\u001b[0m\u001b[0;34m.\u001b[0m\u001b[0mfloat_\u001b[0m\u001b[0;34m)\u001b[0m\u001b[0;34m.\u001b[0m\u001b[0mfilled\u001b[0m\u001b[0;34m(\u001b[0m\u001b[0mnp\u001b[0m\u001b[0;34m.\u001b[0m\u001b[0mnan\u001b[0m\u001b[0;34m)\u001b[0m\u001b[0;34m\u001b[0m\u001b[0m\n\u001b[1;32m    675\u001b[0m             \u001b[0;32melse\u001b[0m\u001b[0;34m:\u001b[0m\u001b[0;34m\u001b[0m\u001b[0m\n\u001b[0;32m--> 676\u001b[0;31m                 \u001b[0mx\u001b[0m \u001b[0;34m=\u001b[0m \u001b[0mnp\u001b[0m\u001b[0;34m.\u001b[0m\u001b[0masarray\u001b[0m\u001b[0;34m(\u001b[0m\u001b[0mxconv\u001b[0m\u001b[0;34m,\u001b[0m \u001b[0mnp\u001b[0m\u001b[0;34m.\u001b[0m\u001b[0mfloat_\u001b[0m\u001b[0;34m)\u001b[0m\u001b[0;34m\u001b[0m\u001b[0m\n\u001b[0m\u001b[1;32m    677\u001b[0m             \u001b[0mx\u001b[0m \u001b[0;34m=\u001b[0m \u001b[0mx\u001b[0m\u001b[0;34m.\u001b[0m\u001b[0mravel\u001b[0m\u001b[0;34m(\u001b[0m\u001b[0;34m)\u001b[0m\u001b[0;34m\u001b[0m\u001b[0m\n\u001b[1;32m    678\u001b[0m         \u001b[0;32melse\u001b[0m\u001b[0;34m:\u001b[0m\u001b[0;34m\u001b[0m\u001b[0m\n",
      "\u001b[0;32m/Library/Frameworks/Python.framework/Versions/3.5/lib/python3.5/site-packages/numpy/core/numeric.py\u001b[0m in \u001b[0;36masarray\u001b[0;34m(a, dtype, order)\u001b[0m\n\u001b[1;32m    480\u001b[0m \u001b[0;34m\u001b[0m\u001b[0m\n\u001b[1;32m    481\u001b[0m     \"\"\"\n\u001b[0;32m--> 482\u001b[0;31m     \u001b[0;32mreturn\u001b[0m \u001b[0marray\u001b[0m\u001b[0;34m(\u001b[0m\u001b[0ma\u001b[0m\u001b[0;34m,\u001b[0m \u001b[0mdtype\u001b[0m\u001b[0;34m,\u001b[0m \u001b[0mcopy\u001b[0m\u001b[0;34m=\u001b[0m\u001b[0;32mFalse\u001b[0m\u001b[0;34m,\u001b[0m \u001b[0morder\u001b[0m\u001b[0;34m=\u001b[0m\u001b[0morder\u001b[0m\u001b[0;34m)\u001b[0m\u001b[0;34m\u001b[0m\u001b[0m\n\u001b[0m\u001b[1;32m    483\u001b[0m \u001b[0;34m\u001b[0m\u001b[0m\n\u001b[1;32m    484\u001b[0m \u001b[0;32mdef\u001b[0m \u001b[0masanyarray\u001b[0m\u001b[0;34m(\u001b[0m\u001b[0ma\u001b[0m\u001b[0;34m,\u001b[0m \u001b[0mdtype\u001b[0m\u001b[0;34m=\u001b[0m\u001b[0;32mNone\u001b[0m\u001b[0;34m,\u001b[0m \u001b[0morder\u001b[0m\u001b[0;34m=\u001b[0m\u001b[0;32mNone\u001b[0m\u001b[0;34m)\u001b[0m\u001b[0;34m:\u001b[0m\u001b[0;34m\u001b[0m\u001b[0m\n",
      "\u001b[0;31mValueError\u001b[0m: could not convert string to float: '12/31/2016 23:59'"
     ]
    }
   ],
   "source": [
    "plt.plot(weather['DATE'], weather['HOURLYDRYBULBTEMPF'], '--')\n",
=======
    "plotDates = []\n",
    "for date in unique_dates:\n",
    "    plotDates.append(datetime.strptime(date, \"%Y-%m-%d\"))\n",
    "    \n",
    "plt.plot(plotDates, stars)\n",
>>>>>>> 041e7d19c959b0faeb79f86810d9e0745ccf68ab
    "plt.show()"
   ]
  },
  {
   "cell_type": "code",
   "execution_count": null,
   "metadata": {
    "collapsed": true
   },
   "outputs": [],
   "source": []
  }
 ],
 "metadata": {
  "kernelspec": {
   "display_name": "Python 3",
   "language": "python",
   "name": "python3"
  },
  "language_info": {
   "codemirror_mode": {
    "name": "ipython",
    "version": 3
   },
   "file_extension": ".py",
   "mimetype": "text/x-python",
   "name": "python",
   "nbconvert_exporter": "python",
   "pygments_lexer": "ipython3",
   "version": "3.5.1"
  }
 },
 "nbformat": 4,
 "nbformat_minor": 1
}

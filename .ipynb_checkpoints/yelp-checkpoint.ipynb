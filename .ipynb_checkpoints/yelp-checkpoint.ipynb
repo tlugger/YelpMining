{
 "cells": [
  {
   "cell_type": "code",
   "execution_count": 20,
   "metadata": {
    "collapsed": true
   },
   "outputs": [],
   "source": [
    "from pymongo import MongoClient\n",
    "import pandas as pd\n",
    "import numpy as np\n",
    "import matplotlib.mlab as mlab\n",
    "import matplotlib.pyplot as plt\n",
    "from textblob import TextBlob\n",
    "import nltk"
   ]
  },
  {
   "cell_type": "code",
   "execution_count": 10,
   "metadata": {
    "collapsed": false
   },
   "outputs": [
    {
     "data": {
      "text/plain": [
       "<matplotlib.text.Text at 0x108cff1d0>"
      ]
     },
     "execution_count": 10,
     "metadata": {},
     "output_type": "execute_result"
    }
   ],
   "source": [
    "# %%\n",
    "cli = MongoClient(\"localhost\",27017)\n",
    "db = cli.yelp\n",
    "cursor = db.user.find({}, {\"review_count\" : 1, \"user_id\" : 1}).limit(100).sort(\"review_count\", -1)\n",
    "# %%\n",
    "yelp_users_by_rating = pd.DataFrame(list(cursor))\n",
    "n, bins, patches = plt.hist(yelp_users_by_rating['review_count'], 50, normed=0, facecolor='green', alpha=0.75)\n",
    "plt.xlabel('Number of reviews')\n",
    "plt.ylabel('Number of users')\n",
    "plt.title('Number of reviews for most active users')"
   ]
  },
  {
   "cell_type": "markdown",
   "metadata": {},
   "source": [
    "Just as we suspected, most users review far less than 1000 places.\n",
    "This is without even filtering out restaraunts, so what can be done to stimulate activity on yelp?"
   ]
  },
  {
   "cell_type": "code",
   "execution_count": 11,
   "metadata": {
    "collapsed": false
   },
   "outputs": [
    {
     "data": {
      "image/png": "[encoded data removed]",
      "text/plain": [
       "<matplotlib.figure.Figure at 0x108d16ef0>"
      ]
     },
     "metadata": {},
     "output_type": "display_data"
    }
   ],
   "source": [
    "#Note: Save this to a png!\n",
    "plt.show()"
   ]
  },
  {
   "cell_type": "markdown",
   "metadata": {},
   "source": [
    "Analyzing behaviour of frequent raters.\n",
    "Sentiment of their ratings? Do they mostly rate when bad or good, or both?\n",
    "First query reviews of top 100 frequent raters."
   ]
  },
  {
   "cell_type": "code",
   "execution_count": 12,
   "metadata": {
    "collapsed": true
   },
   "outputs": [],
   "source": [
    "#%%\n",
    "top_user_ids = yelp_users_by_rating[1:101]['user_id'].values.tolist()\n",
    "top_user_ids\n",
    "review_collection = db.get_collection('review')\n",
    "review_collection.count()\n",
    "relevent_reviews = review_collection.find({\"user_id\" :  {\"$in\" : top_user_ids } })\n",
    "relevent_reviews_df = pd.DataFrame(list(relevent_reviews))"
   ]
  },
  {
   "cell_type": "code",
   "execution_count": 13,
   "metadata": {
    "collapsed": true
   },
   "outputs": [],
   "source": [
    "#%%\n",
    "def calculate_average_sentiment(string):\n",
    "    blob = TextBlob(string)\n",
    "    init = 0\n",
    "    for sentence in blob.sentences:\n",
    "        init += sentence.sentiment.polarity\n",
    "    return (init)/len(blob.sentences)"
   ]
  },
  {
   "cell_type": "markdown",
   "metadata": {},
   "source": [
    "Looks like most of the top reviewers mostly when they have positive things to say about the business. About one quarter of the relevant reviews have positive sentiment detected in the content of the review. While less than 1% of the relevant reviews have negative sentiment detected in the review."
   ]
  },
  {
   "cell_type": "code",
   "execution_count": 14,
   "metadata": {
    "collapsed": false
   },
   "outputs": [
    {
     "name": "stdout",
     "output_type": "stream",
     "text": [
      "Number of reviews with high sentiment score: 3400\n",
      "Number of reviews with low sentiment score: 40\n",
      "Percent of relevant reviews with high sentiment scores: 25.42\n",
      "Percent of relevant reviews with low sentiment scores: 0.30\n"
     ]
    }
   ],
   "source": [
    "relevent_reviews_df['sentiment'] = relevent_reviews_df['text'].map(calculate_average_sentiment)\n",
    "\n",
    "countHigh = len(relevent_reviews_df[relevent_reviews_df['sentiment'] > 0.25])\n",
    "countLow = len(relevent_reviews_df[relevent_reviews_df['sentiment'] < -0.25])\n",
    "\n",
    "print(\"Number of reviews with high sentiment score: %d\" %(countHigh))\n",
    "print(\"Number of reviews with low sentiment score: %d\" %(countLow))\n",
    "\n",
    "print(\"Percent of relevant reviews with high sentiment scores: %.2f\" %(countHigh/(len(relevent_reviews_df))*100))\n",
    "print(\"Percent of relevant reviews with low sentiment scores: %.2f\" %(countLow/(len(relevent_reviews_df))*100))"
   ]
  },
  {
   "cell_type": "markdown",
   "metadata": {
    "collapsed": true
   },
   "source": [
    "Lets see if the review distribution of these users matches the polarity distribution we just calculated."
   ]
  },
  {
   "cell_type": "code",
   "execution_count": 39,
   "metadata": {
    "collapsed": false
   },
   "outputs": [
    {
     "name": "stdout",
     "output_type": "stream",
     "text": [
      "Number of reviews with more than 4 stars: 1684\n",
      "Number of reviews with less than 2 stars: 281\n",
      "Percent of relevant reviews with high star ratings: 12.59\n",
      "Percent of relevant reviews with low star ratings: 2.10\n"
     ]
    }
   ],
   "source": [
    "starsHigh = len(relevent_reviews_df[relevent_reviews_df['stars'] > 4.0])\n",
    "starsLow = len(relevent_reviews_df[relevent_reviews_df['stars'] < 2.0])\n",
    "\n",
    "print(\"Number of reviews with more than 4 stars: %d\" %(starsHigh))\n",
    "print(\"Number of reviews with less than 2 stars: %d\" %(starsLow))\n",
    "\n",
    "print(\"Percent of relevant reviews with high star ratings: %.2f\" %(starsHigh/len(relevent_reviews_df)*100))\n",
    "print(\"Percent of relevant reviews with low star ratings: %.2f\" %(starsLow/len(relevent_reviews_df)*100))"
   ]
  },
  {
   "cell_type": "markdown",
   "metadata": {},
   "source": [
    "This is somewhat similar but not as close as we would like to have seen."
   ]
  },
  {
   "cell_type": "code",
   "execution_count": 42,
   "metadata": {
    "collapsed": false
   },
   "outputs": [],
   "source": [
    "normalizedSentiment = []\n",
    "normalizedStars = []\n",
    "\n",
    "for sentimentVal in relevent_reviews_df['sentiment']:\n",
    "    normVal = (sentimentVal + 1)/2\n",
    "    normalizedSentiment.append(normVal)\n",
    "    \n",
    "for starVal in relevent_reviews_df['stars']:\n",
    "    normVal = (starVal-1)/4\n",
    "    normalizedStars.append(normVal)\n",
    "    \n",
    "xvals = np.linspace(0, 1, 13377)"
   ]
  },
  {
   "cell_type": "markdown",
   "metadata": {},
   "source": [
    "To visualize this comparison between stars and sentiment, it would be easier to show this on a line plot. First, both values will need to be normalized between 0 and 1 to be on the same scale. This is done by creating two new arrays for normalized values"
   ]
  },
  {
   "cell_type": "code",
   "execution_count": 43,
   "metadata": {
    "collapsed": false
   },
   "outputs": [
    {
     "data": {
      "image/png": "[encoded data removed]",
      "text/plain": [
       "<matplotlib.figure.Figure at 0x109229358>"
      ]
     },
     "metadata": {},
     "output_type": "display_data"
    }
   ],
   "source": [
    "plt.hist(normalizedSentiment, bins, normed=1, alpha=0.5, label='Sentimet')\n",
    "plt.hist(normalizedStars, bins, normed=1, alpha=0.5, label='Stars')\n",
    "plt.legend(loc='upper left')\n",
    "plt.xlabel('Normalized values from low to high')\n",
    "plt.ylabel('Number of users')\n",
    "plt.title('Sentiment vs Star Ratings')\n",
    "plt.show()"
   ]
  },
  {
   "cell_type": "markdown",
   "metadata": {},
   "source": [
    "This plot doesn't show us as much as we would like. Each bar of the stars data represents the number of reviews with a rating of 1, 2, 3, 4, or 5 stars. These bars are much higher because there are only 5 bins they can fall into. The sentiment data is grouped much closer together and follows a nice bell curve. Most of the sentiment valuses fall slightly higher than 0.5 which means people are giving reviews using language that is determined to be either neutral or positive. There are some similarities that can be seen between these two but more analysis is needed to fine better data."
   ]
  },
  {
   "cell_type": "code",
   "execution_count": null,
   "metadata": {
    "collapsed": true
   },
   "outputs": [],
   "source": []
  }
 ],
 "metadata": {
  "kernelspec": {
   "display_name": "Python 3",
   "language": "python",
   "name": "python3"
  },
  "language_info": {
   "codemirror_mode": {
    "name": "ipython",
    "version": 3
   },
   "file_extension": ".py",
   "mimetype": "text/x-python",
   "name": "python",
   "nbconvert_exporter": "python",
   "pygments_lexer": "ipython3",
   "version": "3.5.1"
  }
 },
 "nbformat": 4,
 "nbformat_minor": 0
}

{
 "cells": [
  {
   "cell_type": "code",
   "execution_count": 3,
   "metadata": {
    "collapsed": true
   },
   "outputs": [],
   "source": [
    "from pymongo import MongoClient\n",
    "import pandas as pd\n",
    "import matplotlib.mlab as mlab\n",
    "import matplotlib.pyplot as plt\n",
    "from textblob import TextBlob\n",
    "import nltk\n"
   ]
  },
  {
   "cell_type": "code",
   "execution_count": 4,
   "metadata": {
    "collapsed": false
   },
   "outputs": [],
   "source": [
    "# %%\n",
    "cli = MongoClient(\"localhost\",27017)\n",
    "db = cli.yelp\n",
    "cursor = db.user.find({}, {\"review_count\" : 1, \"user_id\" : 1}).limit(100).sort(\"review_count\", -1)\n",
    "# %%\n",
    "yelp_users_by_rating = pd.DataFrame(list(cursor))\n",
    "n, bins, patches = plt.hist(yelp_users_by_rating['review_count'], 50, normed=1, facecolor='green', alpha=0.75)"
   ]
  },
  {
   "cell_type": "code",
   "execution_count": null,
   "metadata": {
    "collapsed": false
   },
   "outputs": [
    {
     "data": {
      "image/png": "[encoded data removed]",
      "text/plain": [
       "<matplotlib.figure.Figure at 0x1091232e8>"
      ]
     },
     "metadata": {},
     "output_type": "display_data"
    }
   ],
   "source": [
    "#Just as we suspected, most users review far less than 1000 places\n",
    "#This is without even filtering out restaraunts, so what can be done to stimulate activity on yelp?\n",
    "#Note: Save this to a png!\n",
    "plt.show()"
   ]
  },
  {
   "cell_type": "code",
   "execution_count": null,
   "metadata": {
    "collapsed": true
   },
   "outputs": [],
   "source": [
    "#Analyzing behaviour of frequent raters.\n",
    "#Sentiment of their ratings? Do they mostly rate when bad or good, or both?\n",
    "#First query reviews of top 100 frequent raters\n",
    "#%%\n",
    "top_user_ids = yelp_users_by_rating[1:10]['user_id'].values.tolist()\n",
    "top_user_ids\n",
    "review_collection = db.get_collection('review')\n",
    "review_collection.count()\n",
    "relevent_reviews = review_collection.find({\"user_id\" :  {\"$in\" : top_user_ids } })\n",
    "relevent_reviews_df = pd.DataFrame(list(relevent_reviews))"
   ]
  },
  {
   "cell_type": "code",
   "execution_count": null,
   "metadata": {
    "collapsed": true
   },
   "outputs": [],
   "source": [
    "#%%\n",
    "def calculate_average_sentiment(string):\n",
    "    blob = TextBlob(string)\n",
    "    init = 0\n",
    "    for sentence in blob.sentences:\n",
    "        init += sentence.sentiment.polarity\n",
    "    return (init)/len(blob.sentences)\n"
   ]
  },
  {
   "cell_type": "code",
   "execution_count": null,
   "metadata": {
    "collapsed": false
   },
   "outputs": [],
   "source": [
    "\n",
    "relevent_reviews_df['sentiment'] = relevent_reviews_df['text'].map(calculate_average_sentiment)\n",
    "\n",
    "#Looks like most of the top reviewers mostly when they feel the business is good.\n",
    "len(relevent_reviews_df[relevent_reviews_df['sentiment'] > 0.25])\n",
    "len(relevent_reviews_df[relevent_reviews_df['sentiment'] < -0.25])\n",
    "\n",
    "1133/(len(relevent_reviews_df))"
   ]
  },
  {
   "cell_type": "code",
   "execution_count": null,
   "metadata": {
    "collapsed": true
   },
   "outputs": [],
   "source": []
  }
 ],
 "metadata": {
  "kernelspec": {
   "display_name": "Python 3",
   "language": "python",
   "name": "python3"
  },
  "language_info": {
   "codemirror_mode": {
    "name": "ipython",
    "version": 3
   },
   "file_extension": ".py",
   "mimetype": "text/x-python",
   "name": "python",
   "nbconvert_exporter": "python",
   "pygments_lexer": "ipython3",
   "version": "3.5.1"
  }
 },
 "nbformat": 4,
 "nbformat_minor": 0
}

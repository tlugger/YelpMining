{
 "cells": [
  {
   "cell_type": "code",
   "execution_count": 1,
   "metadata": {
    "collapsed": true
   },
   "outputs": [],
   "source": [
    "from pymongo import MongoClient\n",
    "import pandas as pd\n",
    "import numpy as np\n",
    "import matplotlib.mlab as mlab\n",
    "import matplotlib.pyplot as plt\n",
    "from textblob import TextBlob\n",
    "import nltk"
   ]
  },
  {
   "cell_type": "code",
   "execution_count": 2,
   "metadata": {
    "collapsed": false
   },
   "outputs": [
    {
     "data": {
      "text/html": [
       "<div>\n",
       "<table border=\"1\" class=\"dataframe\">\n",
       "  <thead>\n",
       "    <tr style=\"text-align: right;\">\n",
       "      <th></th>\n",
       "      <th>_id</th>\n",
       "      <th>business_id</th>\n",
       "      <th>city</th>\n",
       "      <th>type</th>\n",
       "    </tr>\n",
       "  </thead>\n",
       "  <tbody>\n",
       "    <tr>\n",
       "      <th>0</th>\n",
       "      <td>58d5894730282846474829fc</td>\n",
       "      <td>LIvXzdMJrIb6IY5Y3tqicA</td>\n",
       "      <td>Charlotte</td>\n",
       "      <td>business</td>\n",
       "    </tr>\n",
       "    <tr>\n",
       "      <th>1</th>\n",
       "      <td>58d589483028284647482a3f</td>\n",
       "      <td>h7uxML49NQ_Wj-7zk0DSqg</td>\n",
       "      <td>Charlotte</td>\n",
       "      <td>business</td>\n",
       "    </tr>\n",
       "    <tr>\n",
       "      <th>2</th>\n",
       "      <td>58d589483028284647482a40</td>\n",
       "      <td>X02YNLa3Iofzwv5Le6QeYQ</td>\n",
       "      <td>Charlotte</td>\n",
       "      <td>business</td>\n",
       "    </tr>\n",
       "    <tr>\n",
       "      <th>3</th>\n",
       "      <td>58d589483028284647482a41</td>\n",
       "      <td>2rgQ1TULwVoY7TnUlnH7Yw</td>\n",
       "      <td>Charlotte</td>\n",
       "      <td>business</td>\n",
       "    </tr>\n",
       "    <tr>\n",
       "      <th>4</th>\n",
       "      <td>58d589483028284647482a74</td>\n",
       "      <td>_OtUeybIKTx2jhLVYV66wA</td>\n",
       "      <td>Charlotte</td>\n",
       "      <td>business</td>\n",
       "    </tr>\n",
       "  </tbody>\n",
       "</table>\n",
       "</div>"
      ],
      "text/plain": [
       "                        _id             business_id       city      type\n",
       "0  58d5894730282846474829fc  LIvXzdMJrIb6IY5Y3tqicA  Charlotte  business\n",
       "1  58d589483028284647482a3f  h7uxML49NQ_Wj-7zk0DSqg  Charlotte  business\n",
       "2  58d589483028284647482a40  X02YNLa3Iofzwv5Le6QeYQ  Charlotte  business\n",
       "3  58d589483028284647482a41  2rgQ1TULwVoY7TnUlnH7Yw  Charlotte  business\n",
       "4  58d589483028284647482a74  _OtUeybIKTx2jhLVYV66wA  Charlotte  business"
      ]
     },
     "execution_count": 2,
     "metadata": {},
     "output_type": "execute_result"
    }
   ],
   "source": [
    "# \n",
    "cli = MongoClient(\"localhost\",27017)\n",
    "db = cli.yelp\n",
    "cursorBusiness = db.business.find({\"city\" : \"Charlotte\", \"categories\": \"Restaurants\"}, {\"business_id\" : 1, \"city\": 1, \"type\" : 1}).limit(100)\n",
    "# \n",
    "charlotte_businesses = pd.DataFrame(list(cursorBusiness))\n",
    "charlotte_businesses.head()"
   ]
  },
  {
   "cell_type": "markdown",
   "metadata": {},
   "source": [
    "We can grab 1000 restaurant ids from Charlotte, now to grab reviews on these businesses on the correct days"
   ]
  },
  {
   "cell_type": "code",
   "execution_count": 7,
   "metadata": {
    "collapsed": false
   },
   "outputs": [
    {
     "data": {
      "text/html": [
       "<div>\n",
       "<table border=\"1\" class=\"dataframe\">\n",
       "  <thead>\n",
       "    <tr style=\"text-align: right;\">\n",
       "      <th></th>\n",
       "      <th>_id</th>\n",
       "      <th>date</th>\n",
       "      <th>stars</th>\n",
       "      <th>text</th>\n",
       "    </tr>\n",
       "  </thead>\n",
       "  <tbody>\n",
       "    <tr>\n",
       "      <th>0</th>\n",
       "      <td>58d573693028284647f91f50</td>\n",
       "      <td>2015-09-16</td>\n",
       "      <td>5</td>\n",
       "      <td>Great food at reasonable prices always fresh a...</td>\n",
       "    </tr>\n",
       "    <tr>\n",
       "      <th>1</th>\n",
       "      <td>58d573693028284647f91f51</td>\n",
       "      <td>2015-06-05</td>\n",
       "      <td>5</td>\n",
       "      <td>This place is great and very affordable. Their...</td>\n",
       "    </tr>\n",
       "    <tr>\n",
       "      <th>2</th>\n",
       "      <td>58d573693028284647f91f52</td>\n",
       "      <td>2014-09-04</td>\n",
       "      <td>5</td>\n",
       "      <td>Good food, fair price. It looks empty but its ...</td>\n",
       "    </tr>\n",
       "    <tr>\n",
       "      <th>3</th>\n",
       "      <td>58d573693028284647f91f53</td>\n",
       "      <td>2014-02-16</td>\n",
       "      <td>4</td>\n",
       "      <td>Pretty good food for the area . The chicken wi...</td>\n",
       "    </tr>\n",
       "    <tr>\n",
       "      <th>4</th>\n",
       "      <td>58d573693028284647f91f54</td>\n",
       "      <td>2015-04-02</td>\n",
       "      <td>1</td>\n",
       "      <td>I LOVE Chinese food and have eaten at many a C...</td>\n",
       "    </tr>\n",
       "  </tbody>\n",
       "</table>\n",
       "</div>"
      ],
      "text/plain": [
       "                        _id        date  stars  \\\n",
       "0  58d573693028284647f91f50  2015-09-16      5   \n",
       "1  58d573693028284647f91f51  2015-06-05      5   \n",
       "2  58d573693028284647f91f52  2014-09-04      5   \n",
       "3  58d573693028284647f91f53  2014-02-16      4   \n",
       "4  58d573693028284647f91f54  2015-04-02      1   \n",
       "\n",
       "                                                text  \n",
       "0  Great food at reasonable prices always fresh a...  \n",
       "1  This place is great and very affordable. Their...  \n",
       "2  Good food, fair price. It looks empty but its ...  \n",
       "3  Pretty good food for the area . The chicken wi...  \n",
       "4  I LOVE Chinese food and have eaten at many a C...  "
      ]
     },
     "execution_count": 7,
     "metadata": {},
     "output_type": "execute_result"
    }
   ],
   "source": [
    "cursorReview = db.review.find({\"business_id\": {\"$in\": list(charlotte_businesses['business_id'])}}, {\"text\": 1, \"stars\": 1, \"date\": 1}).limit(100)\n",
    "charlotte_reviews = pd.DataFrame(list(cursorReview))\n",
    "charlotte_reviews.head()"
   ]
  },
  {
   "cell_type": "code",
   "execution_count": null,
   "metadata": {
    "collapsed": true
   },
   "outputs": [],
   "source": []
  }
 ],
 "metadata": {
  "kernelspec": {
   "display_name": "Python 3",
   "language": "python",
   "name": "python3"
  },
  "language_info": {
   "codemirror_mode": {
    "name": "ipython",
    "version": 3
   },
   "file_extension": ".py",
   "mimetype": "text/x-python",
   "name": "python",
   "nbconvert_exporter": "python",
   "pygments_lexer": "ipython3",
   "version": "3.5.1"
  }
 },
 "nbformat": 4,
 "nbformat_minor": 1
}
